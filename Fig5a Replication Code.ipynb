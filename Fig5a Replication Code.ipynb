{
 "cells": [
  {
   "cell_type": "code",
   "execution_count": 124,
   "id": "7bda4871",
   "metadata": {},
   "outputs": [],
   "source": [
    "# import qiime2\n",
    "import pandas as pd\n",
    "import numpy as np\n",
    "import torch as t\n",
    "## Uncomment to get rid of warnings\n",
    "#import warnings\n",
    "#warnings.filterwarnings('ignore') \n",
    "\n",
    "from sklearn.preprocessing import OneHotEncoder\n",
    "from sklearn.model_selection import StratifiedKFold\n",
    "from sklearn.model_selection import cross_validate\n",
    "from sklearn.ensemble import RandomForestClassifier\n",
    "from sklearn.metrics import roc_auc_score\n",
    "\n",
    "import matplotlib.pyplot as plt\n",
    "from matplotlib.lines import Line2D"
   ]
  },
  {
   "cell_type": "code",
   "execution_count": null,
   "id": "eed29645",
   "metadata": {},
   "outputs": [],
   "source": []
  },
  {
   "cell_type": "code",
   "execution_count": 125,
   "id": "d702e644",
   "metadata": {},
   "outputs": [],
   "source": [
    "## DATA PATHS ##\n",
    "fungi_decontaminated_path = 'data/count_data_fungi_decontaminated_HMS_1986samples.tsv'\n",
    "fungi_high_coverage_path = 'data/count_data_fungi_high_coverage_HMS_1986samples.tsv'\n",
    "fungi_WSI_intersect_path = 'data/count_data_fungi_WIS_intersect_HMS_1986samples.tsv'\n",
    "fungi_metadata_path = 'data/metadata_fungi_HMS_1986samples.tsv'\n",
    "tcga_abbrev_path = 'data/tcga_abbreviations.csv'"
   ]
  },
  {
   "cell_type": "code",
   "execution_count": 126,
   "id": "8d2edf07",
   "metadata": {},
   "outputs": [],
   "source": [
    "## DATA READS ##\n",
    "fungi_decontaminated = pd.read_csv(fungi_decontaminated_path, sep='\\t', header=0, index_col='sampleid')\n",
    "fungi_high_coverage = pd.read_csv(fungi_high_coverage_path, sep='\\t', header=0, index_col='sampleid')\n",
    "fungi_WSI_intersect = pd.read_csv(fungi_WSI_intersect_path, sep='\\t', header=0, index_col='sampleid')\n",
    "fungi_metadata = pd.read_csv(fungi_metadata_path, sep='\\t', header=0, index_col='sampleid')\n",
    "tcga_abbrev = pd.read_csv(tcga_abbrev_path, index_col='dz')"
   ]
  },
  {
   "cell_type": "code",
   "execution_count": null,
   "id": "cf4449b4",
   "metadata": {},
   "outputs": [],
   "source": []
  },
  {
   "cell_type": "code",
   "execution_count": 127,
   "id": "ae38b679",
   "metadata": {},
   "outputs": [],
   "source": [
    "## DATA CLEANING/PRE-PROCESSING ##\n",
    "fungi_metadata_cols = ['disease_type','sample_type'] \n",
    "fungi_metadata = fungi_metadata[fungi_metadata_cols] #grab needed columns\n",
    "fungi_metadata = fungi_metadata[fungi_metadata['sample_type'] == 'Primary Tumor'] #filter only Primary Tumors\n",
    "\n",
    "min_count = 20 #drop cancers with fewer than 20 samples\n",
    "fungi_metadata = fungi_metadata[fungi_metadata['disease_type'].map(fungi_metadata['disease_type'].value_counts()) > min_count]\n",
    "samples = fungi_metadata.index #relevant sampleID's after final cleaning\n",
    "\n",
    "## DATA FOR ML ##\n",
    "fungi_decontaminated = fungi_decontaminated.filter(items = samples, axis=0) #filter feature tables for relevant samples\n",
    "fungi_high_coverage = fungi_high_coverage.filter(items = samples, axis=0)\n",
    "fungi_WSI_intersect = fungi_WSI_intersect.filter(items = samples, axis=0)\n",
    "cancer_types = pd.get_dummies(fungi_metadata['disease_type']) #one hot encode disease types\n"
   ]
  },
  {
   "cell_type": "code",
   "execution_count": 128,
   "id": "326e0ce2",
   "metadata": {},
   "outputs": [],
   "source": [
    "def plot_confidence_interval(x, values, z=1.96, color='#2187bb', horizontal_line_width=0.25):\n",
    "    mean = np.mean(values)\n",
    "    stdev = np.std(values)\n",
    "    confidence_interval = z * stdev / (len(values)**(1/2))\n",
    "\n",
    "    left = x - horizontal_line_width / 2\n",
    "    top = mean - confidence_interval\n",
    "    right = x + horizontal_line_width / 2\n",
    "    bottom = mean + confidence_interval\n",
    "    plt.plot([x, x], [top, bottom], color=color)\n",
    "    plt.plot([left, right], [top, top], color=color)\n",
    "    plt.plot([left, right], [bottom, bottom], color=color)\n",
    "    plt.plot(x, mean, 'o', color=color)\n",
    "\n",
    "    return mean, confidence_interval\n",
    "\n",
    "\n",
    "def abbreviate(string):\n",
    "    abbr = tcga_abbrev.loc[string][0]\n",
    "    return abbr\n"
   ]
  },
  {
   "cell_type": "code",
   "execution_count": 129,
   "id": "b03af52d",
   "metadata": {},
   "outputs": [],
   "source": [
    "#check how the validation is being performed. are there pos and neg samples in every fold?\n",
    "\n",
    "def cross_validation(model, _X, _y, _cv=10):\n",
    "    \n",
    "    _scoring = ['roc_auc', 'precision', 'recall']\n",
    "    \n",
    "    results = cross_validate(estimator=model,\n",
    "                            X=_X,\n",
    "                            y=_y,\n",
    "                            cv=_cv,\n",
    "                            scoring=_scoring,\n",
    "                            return_train_score=True)\n",
    "    \n",
    "    return {\"Training ROC_AUC scores\": results['train_roc_auc'],\n",
    "          #\"Mean Training ROC_AUC\": results['train_roc_auc'].mean()*100,\n",
    "          \"Training Precision scores\": results['train_precision'],\n",
    "          #\"Mean Training Precision\": results['train_precision'].mean(),\n",
    "          \"Training Recall scores\": results['train_recall'],\n",
    "          #\"Mean Training Recall\": results['train_recall'].mean(),\n",
    "          \"Validation ROC_AUC scores\": results['test_roc_auc'],\n",
    "          #\"Mean Validation ROC_AUC\": results['test_roc_auc'].mean()*100,\n",
    "          \"Validation Precision scores\": results['test_precision'],\n",
    "          #\"Mean Validation Precision\": results['test_precision'].mean(),\n",
    "          \"Validation Recall scores\": results['test_recall'],\n",
    "          #\"Mean Validation Recall\": results['test_recall'].mean()\n",
    "          }\n"
   ]
  },
  {
   "cell_type": "code",
   "execution_count": 130,
   "id": "1ca60bbe",
   "metadata": {},
   "outputs": [],
   "source": [
    "## BUILD MODEL ##\n",
    "\n",
    "#TODO: define cross validation hyperparams\n",
    "n_splits = 10\n",
    "skf_random = 0\n",
    "shuffle=True\n",
    "#TODO: define model hyperparams, can automate tuning later\n",
    "n_estimators = 150\n",
    "max_depth = 3\n",
    "clf_random = 0 #DO NOT TOUCH\n",
    "\n",
    "#TODO: implement model(s)\n",
    "skf = StratifiedKFold(n_splits=n_splits, random_state=skf_random, shuffle=shuffle)\n",
    "clf = RandomForestClassifier(n_estimators=n_estimators, max_depth=max_depth, random_state=clf_random)"
   ]
  },
  {
   "cell_type": "code",
   "execution_count": null,
   "id": "5e6f81fe",
   "metadata": {},
   "outputs": [],
   "source": []
  },
  {
   "cell_type": "code",
   "execution_count": 131,
   "id": "73bd1a15",
   "metadata": {},
   "outputs": [],
   "source": [
    "## INITIALIZE PLOT ##\n",
    "fig = plt.figure(figsize=[10, 5.6])\n",
    "y_ticks = plt.yticks(np.arange(11)/10)\n",
    "x_ticks = plt.xticks(np.arange(1, len(cancer_types.columns)+1), [abbreviate(cancer) for cancer in cancer_types.columns])\n",
    "plt.ylabel('Area Under Curve', fontsize='large')\n",
    "plt.autoscale(enable = False, tight=False, axis = 'y')\n",
    "title = plt.title('AUROC')"
   ]
  },
  {
   "cell_type": "code",
   "execution_count": null,
   "id": "57b247b3",
   "metadata": {
    "scrolled": true
   },
   "outputs": [],
   "source": [
    "## AUTOMATION TIME! ##\n",
    "colors = ['red','blue','orange']\n",
    "offset = [-0.3, 0, 0.3]\n",
    "datasets = [fungi_high_coverage, fungi_WSI_intersect, fungi_decontaminated]\n",
    "\n",
    "for color, offset, dataset in zip(colors, offset, datasets):\n",
    "    color = color\n",
    "    offset = offset\n",
    "    X = dataset\n",
    "    \n",
    "    for i, cancer in enumerate(cancer_types.columns, start=1):\n",
    "        \n",
    "        y = cancer_types[cancer]\n",
    "        \n",
    "        plt_data = np.array([])\n",
    "        \n",
    "        for train_index, val_index in skf.split(X, y):\n",
    "            train_X, train_y = X.iloc[train_index], y.iloc[train_index]\n",
    "            val_X, val_y = X.iloc[val_index], y.iloc[val_index]\n",
    "\n",
    "            clf.fit(train_X, train_y) #fit model\n",
    "\n",
    "            preds = clf.predict_proba(val_X)[:,1] #predict, probability of positive class predict\n",
    "\n",
    "            score = roc_auc_score(val_y, preds) #TODO: implement separate score function to return multiple scores\n",
    "            plt_data = np.append(plt_data, score)\n",
    "\n",
    "        plot_confidence_interval(i+offset, plt_data,color=color)\n"
   ]
  },
  {
   "cell_type": "code",
   "execution_count": null,
   "id": "04ceed83",
   "metadata": {},
   "outputs": [],
   "source": [
    "plt.axhline(0.5, linestyle ='dashed', color = 'black')\n",
    "custom_lines = [Line2D([0], [0], color='red'),\n",
    "                Line2D([0], [0], color='blue'),\n",
    "                Line2D([0], [0], color='orange')]\n",
    "plt.legend(labels=['Species high coverage','Species ∩ WIS','Species decontaminated'],\n",
    "           handles=custom_lines)\n",
    "fig"
   ]
  },
  {
   "cell_type": "code",
   "execution_count": null,
   "id": "8bfd3dee",
   "metadata": {},
   "outputs": [],
   "source": []
  }
 ],
 "metadata": {
  "kernelspec": {
   "display_name": "Python 3",
   "language": "python",
   "name": "python3"
  },
  "language_info": {
   "codemirror_mode": {
    "name": "ipython",
    "version": 3
   },
   "file_extension": ".py",
   "mimetype": "text/x-python",
   "name": "python",
   "nbconvert_exporter": "python",
   "pygments_lexer": "ipython3",
   "version": "3.8.11"
  },
  "vscode": {
   "interpreter": {
    "hash": "06eb5d70a2bfd6e47933138c9cfca18a2b994f36f8183ed6e0af7fca61c38e06"
   }
  }
 },
 "nbformat": 4,
 "nbformat_minor": 5
}
