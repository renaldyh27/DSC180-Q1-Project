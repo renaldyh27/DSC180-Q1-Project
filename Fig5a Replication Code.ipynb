{
 "cells": [
  {
   "cell_type": "code",
   "execution_count": 171,
   "id": "7bda4871",
   "metadata": {},
   "outputs": [],
   "source": [
    "# import qiime2\n",
    "import pandas as pd\n",
    "import numpy as np\n",
    "import torch as t\n",
    "## Uncomment to get rid of warnings\n",
    "#import warnings\n",
    "#warnings.filterwarnings('ignore') \n",
    "\n",
    "from sklearn.preprocessing import OneHotEncoder\n",
    "\n",
    "from sklearn.model_selection import StratifiedKFold\n",
    "from sklearn.ensemble import RandomForestClassifier\n",
    "from sklearn.ensemble import GradientBoostingClassifier\n",
    "\n",
    "from sklearn.metrics import roc_auc_score\n",
    "from sklearn.metrics import precision_recall_curve, average_precision_score, auc\n",
    "\n",
    "import matplotlib.pyplot as plt\n"
   ]
  },
  {
   "cell_type": "code",
   "execution_count": null,
   "id": "eed29645",
   "metadata": {},
   "outputs": [],
   "source": []
  },
  {
   "cell_type": "code",
   "execution_count": 20,
   "id": "d702e644",
   "metadata": {},
   "outputs": [],
   "source": [
    "## DATA PATHS ##\n",
    "fungi_decontaminated_path = 'data/count_data_fungi_decontaminated_HMS_1986samples.tsv'\n",
    "fungi_high_coverage_path = 'data/count_data_fungi_high_coverage_HMS_1986samples.tsv'\n",
    "fungi_WSI_intersect_path = 'data/count_data_fungi_WIS_intersect_HMS_1986samples.tsv'\n",
    "fungi_metadata_path = 'data/metadata_fungi_HMS_1986samples.tsv'\n",
    "tcga_abbrev_path = 'data/tcga_abbreviations.csv'"
   ]
  },
  {
   "cell_type": "code",
   "execution_count": 21,
   "id": "8d2edf07",
   "metadata": {},
   "outputs": [],
   "source": [
    "## DATA READS ##\n",
    "fungi_decontaminated = pd.read_csv(fungi_decontaminated_path, sep='\\t', header=0, index_col='sampleid')\n",
    "fungi_high_coverage = pd.read_csv(fungi_high_coverage_path, sep='\\t', header=0, index_col='sampleid')\n",
    "fungi_WSI_intersect = pd.read_csv(fungi_WSI_intersect_path, sep='\\t', header=0, index_col='sampleid')\n",
    "fungi_metadata = pd.read_csv(fungi_metadata_path, sep='\\t', header=0, index_col='sampleid')\n",
    "tcga_abbrev = pd.read_csv(tcga_abbrev_path, index_col='dz')"
   ]
  },
  {
   "cell_type": "code",
   "execution_count": null,
   "id": "cf4449b4",
   "metadata": {},
   "outputs": [],
   "source": []
  },
  {
   "cell_type": "code",
   "execution_count": 22,
   "id": "ae38b679",
   "metadata": {},
   "outputs": [],
   "source": [
    "## DATA CLEANING/PRE-PROCESSING ##\n",
    "fungi_metadata_cols = ['disease_type','sample_type'] \n",
    "fungi_metadata = fungi_metadata[fungi_metadata_cols] #grab needed columns\n",
    "fungi_metadata = fungi_metadata[fungi_metadata['sample_type'] == 'Primary Tumor'] #filter only Primary Tumors\n",
    "\n",
    "min_count = 20 #drop cancers with fewer than 20 samples\n",
    "fungi_metadata = fungi_metadata[fungi_metadata['disease_type'].map(fungi_metadata['disease_type'].value_counts()) > min_count]\n",
    "samples = fungi_metadata.index #relevant sampleID's after final cleaning\n",
    "\n",
    "## DATA FOR ML ##\n",
    "fungi_decontaminated = fungi_decontaminated.filter(items = samples, axis=0) #filter feature tables for relevant samples\n",
    "fungi_high_coverage = fungi_high_coverage.filter(items = samples, axis=0)\n",
    "fungi_WSI_intersect = fungi_WSI_intersect.filter(items = samples, axis=0)\n",
    "cancer_types = pd.get_dummies(fungi_metadata['disease_type']) #one hot encode disease types\n"
   ]
  },
  {
   "cell_type": "code",
   "execution_count": 194,
   "id": "326e0ce2",
   "metadata": {},
   "outputs": [],
   "source": [
    "def abbreviate(string):\n",
    "    abbr = tcga_abbrev.loc[string][0]\n",
    "    return abbr\n",
    "\n",
    "def plot_confidence_interval(x, values, z=1.96, color='#2187bb', horizontal_line_width=0.25, axes=None):\n",
    "    mean = np.mean(values)\n",
    "    stdev = np.std(values)\n",
    "    confidence_interval = z * stdev / (len(values)**(1/2))\n",
    "\n",
    "    left = x - horizontal_line_width / 2\n",
    "    top = mean - confidence_interval\n",
    "    right = x + horizontal_line_width / 2\n",
    "    bottom = mean + confidence_interval\n",
    "    \n",
    "    axes.plot([x, x], [top, bottom], color=color)\n",
    "    axes.plot([left, right], [top, top], color=color)\n",
    "    axes.plot([left, right], [bottom, bottom], color=color)\n",
    "    axes.plot(x, mean, '.', color=color)\n",
    "\n",
    "    return mean, confidence_interval\n",
    "\n",
    "\n",
    "def plot_baseline(proportion, x, color='#2187bb', horizontal_line_width=0.25, axes=None):\n",
    "    left = x - 0.3 - horizontal_line_width / 2\n",
    "    right = x + 0.3 + horizontal_line_width / 2\n",
    "    \n",
    "    axes.plot([left, right], [proportion, proportion], color=color)\n",
    "\n",
    "    return\n"
   ]
  },
  {
   "cell_type": "code",
   "execution_count": 176,
   "id": "1ca60bbe",
   "metadata": {},
   "outputs": [],
   "source": [
    "## BUILD MODEL ##\n",
    "\n",
    "#TODO: define cross validation hyperparams\n",
    "n_splits = 10\n",
    "skf_random = 0 #DO NOT TOUCH\n",
    "shuffle=True\n",
    "#TODO: define model hyperparams, can automate tuning later\n",
    "loss = 'exponential'\n",
    "learning_rate = 0.1\n",
    "n_estimators = 150\n",
    "max_depth = 3\n",
    "clf_random = 0 #DO NOT TOUCH\n",
    "\n",
    "#TODO: implement model(s)\n",
    "skf = StratifiedKFold(n_splits=n_splits, random_state=skf_random, shuffle=shuffle)\n",
    "\n",
    "clf = RandomForestClassifier(n_estimators=n_estimators, max_depth=max_depth, random_state=clf_random)\n",
    "clf = GradientBoostingClassifier(loss=loss, learning_rate=learning_rate, n_estimators=n_estimators, max_depth=max_depth, random_state=clf_random)"
   ]
  },
  {
   "cell_type": "code",
   "execution_count": null,
   "id": "96c1d593",
   "metadata": {},
   "outputs": [],
   "source": []
  },
  {
   "cell_type": "code",
   "execution_count": 177,
   "id": "73bd1a15",
   "metadata": {},
   "outputs": [
    {
     "data": {
      "text/plain": [
       "Text(0.5, 1.0, 'AUPR')"
      ]
     },
     "execution_count": 177,
     "metadata": {},
     "output_type": "execute_result"
    }
   ],
   "source": [
    "## INITIALIZE PLOT ##\n",
    "fig, ax = plt.subplots(nrows=2, ncols=1, sharex=True, sharey=True)\n",
    "\n",
    "y_ticks = plt.yticks(np.arange(11)/10)\n",
    "x_ticks = plt.xticks(np.arange(1, len(cancer_types.columns)+1), [abbreviate(cancer) for cancer in cancer_types.columns])\n",
    "\n",
    "plt.autoscale(False)\n",
    "\n",
    "ax[0].set_title('AUROC')\n",
    "ax[1].set_title('AUPR')"
   ]
  },
  {
   "cell_type": "code",
   "execution_count": 197,
   "id": "57b247b3",
   "metadata": {
    "scrolled": true
   },
   "outputs": [],
   "source": [
    "## AUTOMATION TIME! ##\n",
    "colors = ['red','blue','orange']\n",
    "offsets = [-0.3, 0, 0.3]\n",
    "datasets = [fungi_high_coverage, fungi_WSI_intersect, fungi_decontaminated]\n",
    "\n",
    "for color, offset, dataset in zip(colors, offsets, datasets):\n",
    "    color = color\n",
    "    offset = offset\n",
    "    X = dataset\n",
    "    \n",
    "    for i, cancer in enumerate(cancer_types.columns, start=1):\n",
    "        \n",
    "        y = cancer_types[cancer]\n",
    "        proportion = y.mean()\n",
    "        \n",
    "        auroc_plt_data = np.array([])\n",
    "        aupr_plt_data = np.array([])\n",
    "        \n",
    "        for train_index, val_index in skf.split(X, y):\n",
    "            train_X, train_y = X.iloc[train_index], y.iloc[train_index]\n",
    "            val_X, val_y = X.iloc[val_index], y.iloc[val_index]\n",
    "\n",
    "            clf.fit(train_X, train_y) #re-fit model\n",
    "\n",
    "            preds = clf.predict_proba(val_X)[:,1] #predict, probability of positive class predict\n",
    "\n",
    "            auroc = roc_auc_score(val_y, preds) #TODO: implement separate score function to return multiple scores\n",
    "            aupr = average_precision_score(val_y, preds)\n",
    "            \n",
    "            auroc_plt_data = np.append(auroc_plt_data, auroc)\n",
    "            aupr_plt_data = np.append(aupr_plt_data, aupr)\n",
    "\n",
    "        plot_confidence_interval(i+offset, auroc_plt_data, color=color, axes=ax[0]) #AUROC plot\n",
    "        plot_confidence_interval(i+offset, aupr_plt_data, color=color, axes=ax[1]) #AUPR plot\n",
    "        plot_baseline(proportion=proportion, x=i, axes=ax[1]) #AUPR baselines"
   ]
  },
  {
   "cell_type": "code",
   "execution_count": 198,
   "id": "04ceed83",
   "metadata": {},
   "outputs": [
    {
     "data": {
      "image/png": "[encoded data removed]",
      "text/plain": [
       "<Figure size 640x480 with 2 Axes>"
      ]
     },
     "execution_count": 198,
     "metadata": {},
     "output_type": "execute_result"
    }
   ],
   "source": [
    "fig"
   ]
  },
  {
   "cell_type": "code",
   "execution_count": 190,
   "id": "aacd26b2",
   "metadata": {},
   "outputs": [],
   "source": []
  },
  {
   "cell_type": "code",
   "execution_count": null,
   "id": "a7ad9b8d",
   "metadata": {},
   "outputs": [],
   "source": []
  }
 ],
 "metadata": {
  "kernelspec": {
   "display_name": "Python 3",
   "language": "python",
   "name": "python3"
  },
  "language_info": {
   "codemirror_mode": {
    "name": "ipython",
    "version": 3
   },
   "file_extension": ".py",
   "mimetype": "text/x-python",
   "name": "python",
   "nbconvert_exporter": "python",
   "pygments_lexer": "ipython3",
   "version": "3.8.11"
  },
  "vscode": {
   "interpreter": {
    "hash": "06eb5d70a2bfd6e47933138c9cfca18a2b994f36f8183ed6e0af7fca61c38e06"
   }
  }
 },
 "nbformat": 4,
 "nbformat_minor": 5
}
